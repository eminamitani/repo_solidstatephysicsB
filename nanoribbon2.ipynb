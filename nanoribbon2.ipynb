{
 "cells": [
  {
   "attachments": {},
   "cell_type": "markdown",
   "metadata": {},
   "source": [
    "armchairを計算してみよう"
   ]
  },
  {
   "cell_type": "code",
   "execution_count": 88,
   "metadata": {},
   "outputs": [
    {
     "data": {
      "image/png": "[encoded data removed]",
      "text/plain": [
       "<Figure size 432x288 with 1 Axes>"
      ]
     },
     "metadata": {
      "needs_background": "light"
     },
     "output_type": "display_data"
    }
   ],
   "source": [
    "import numpy\n",
    "import math\n",
    "import matplotlib.pyplot as plt\n",
    "import numpy as np\n",
    "\n",
    "#zigzag nanoribbon\n",
    "'calculate band dispersion along Gamma Y'\n",
    "sample=51\n",
    "t=2.0\n",
    "a=2.0\n",
    "\n",
    "modelsize=11\n",
    "\n",
    "kpoint=numpy.linspace(-1/3/a,1/3/a,sample)\n",
    "\n",
    "tot=[]\n",
    "\n",
    "for ky in kpoint:\n",
    "    \n",
    "    kya=ky*numpy.pi*a\n",
    "\n",
    "    beta=t*np.exp(-1.0j*kya*0.5)\n",
    "    beta_star=t*np.exp(1.0j*kya*0.5)\n",
    "    gamma=t*np.exp(-1.0j*kya)\n",
    "    gamma_star=t*np.exp(1.0j*kya)\n",
    "\n",
    "    '4x4 matrix for upper'\n",
    "    upper=[[0.0, beta_star, 0.0,0.0],\n",
    "            [0.0, 0.0, 0.0, 0.0],\n",
    "            [0.0,0.0,0.0,0.0],\n",
    "            [0.0,0.0,beta, 0.0]\n",
    "            ]\n",
    "    '4x4 matrix for lower'\n",
    "    lower=[[0.0, 0.0, 0.0,0.0],\n",
    "            [beta, 0.0,0.0,0.0],\n",
    "            [0.0,0.0,0.0,beta_star],\n",
    "            [0.0,0.0,0.0,0.0]\n",
    "            ]\n",
    "    '4x4 matrix for other diagonal block'\n",
    "    diag=[[0.0, beta_star, 0.0, gamma],\n",
    "          [beta, 0.0, gamma_star, 0.0],\n",
    "          [0.0,gamma, 0.0, beta_star],\n",
    "          [gamma_star, 0.0, beta, 0.0]\n",
    "            ]\n",
    "    \n",
    "    'fill the matrix'\n",
    "    matrix=numpy.zeros(((modelsize)*4,(modelsize)*4),dtype=np.complex64)\n",
    "    \n",
    "    for i in range(modelsize):\n",
    "        for j in range(modelsize):\n",
    "            if j==i:\n",
    "                matrix[j*4:(j+1)*4, i*4:(i+1)*4 ]=diag\n",
    "            elif j==i-1:\n",
    "                matrix[j*4:(j+1)*4, i*4:(i+1)*4 ]=upper\n",
    "            elif j==i+1:\n",
    "                matrix[j*4:(j+1)*4, i*4:(i+1)*4 ]=lower\n",
    "                \n",
    "                    \n",
    "    A=numpy.mat(matrix)\n",
    "    (l,v)=numpy.linalg.eig(A)\n",
    "    result=[kya,l,v]\n",
    "    tot.append(result)\n",
    "\n",
    "klist=([x[0]/math.pi for x in tot])\n",
    "\n",
    "#print(tot[0][1][2])\n",
    "'plotting the band structure'\n",
    "\n",
    "for i in range(modelsize*4):\n",
    "    eigenval=[]\n",
    "    for j in range(len(klist)):\n",
    "        eigenval.append(tot[j][1][i].real)\n",
    "    \n",
    "    plt.plot(klist,eigenval,'.',color=\"0\")\n",
    "\n",
    "plt.xlabel(\"ky/pi\") \n",
    "titleString=\"AGNR-band\"\n",
    "plt.title(titleString)\n",
    "\n",
    "plt.ylim(-3,3)\n",
    "plt.savefig('AGNR.png',dpi=600)\n",
    "plt.show()"
   ]
  },
  {
   "cell_type": "code",
   "execution_count": 89,
   "metadata": {},
   "outputs": [],
   "source": [
    "kya=0\n",
    "t=10\n",
    "beta=t*np.exp(-1.0j*kya*0.5)\n",
    "beta_star=t*np.exp(1.0j*kya*0.5)\n",
    "gamma=t*np.exp(-1.0j*kya)\n",
    "gamma_star=t*np.exp(1.0j*kya)\n",
    "\n",
    "'4x4 matrix for upper'\n",
    "upper=[[0.0, beta_star, 0.0,0.0],\n",
    "        [0.0, 0.0, 0.0, 0.0],\n",
    "        [0.0,0.0,0.0,0.0],\n",
    "        [0.0,0.0,beta, 0.0]\n",
    "        ]\n",
    "'4x4 matrix for lower'\n",
    "lower=[[0.0, 0.0, 0.0,0.0],\n",
    "        [beta, 0.0,0.0,0.0],\n",
    "        [0.0,0.0,0.0,beta_star],\n",
    "        [0.0,0.0,0.0,0.0]\n",
    "        ]\n",
    "'4x4 matrix for other diagonal block'\n",
    "diag=[[0.0, beta_star, 0.0, gamma],\n",
    "        [beta, 0.0, gamma_star, 0.0],\n",
    "        [0.0,gamma, 0.0, beta_star],\n",
    "        [gamma_star, 0.0, beta, 0.0]\n",
    "        ]\n",
    "\n",
    "'fill the matrix'\n",
    "matrix=numpy.zeros(((modelsize)*4,(modelsize)*4),dtype=np.complex64)\n",
    "for i in range(modelsize):\n",
    "        for j in range(modelsize):\n",
    "                if j==i:\n",
    "                        matrix[j*4:(j+1)*4, i*4:(i+1)*4 ]=diag\n",
    "                elif j==i-1:\n",
    "                        matrix[j*4:(j+1)*4, i*4:(i+1)*4 ]=upper\n",
    "                elif j==i+1:\n",
    "                        matrix[j*4:(j+1)*4, i*4:(i+1)*4 ]=lower\n",
    "                \n",
    "                    \n",
    "A=numpy.mat(matrix)\n"
   ]
  },
  {
   "cell_type": "code",
   "execution_count": 90,
   "metadata": {},
   "outputs": [
    {
     "data": {
      "text/plain": [
       "matrix([[ 0.+0.j, 10.+0.j,  0.+0.j, ...,  0.+0.j,  0.+0.j,  0.+0.j],\n",
       "        [10.+0.j,  0.+0.j, 10.+0.j, ...,  0.+0.j,  0.+0.j,  0.+0.j],\n",
       "        [ 0.+0.j, 10.+0.j,  0.+0.j, ...,  0.+0.j,  0.+0.j,  0.+0.j],\n",
       "        ...,\n",
       "        [ 0.+0.j,  0.+0.j,  0.+0.j, ...,  0.+0.j, 10.+0.j,  0.+0.j],\n",
       "        [ 0.+0.j,  0.+0.j,  0.+0.j, ..., 10.+0.j,  0.+0.j, 10.+0.j],\n",
       "        [ 0.+0.j,  0.+0.j,  0.+0.j, ...,  0.+0.j, 10.+0.j,  0.+0.j]],\n",
       "       dtype=complex64)"
      ]
     },
     "execution_count": 90,
     "metadata": {},
     "output_type": "execute_result"
    }
   ],
   "source": [
    "A"
   ]
  },
  {
   "cell_type": "code",
   "execution_count": 91,
   "metadata": {},
   "outputs": [
    {
     "data": {
      "text/plain": [
       "array([ 29.813719  +0.j,  29.258347  +0.j,  28.344227  +0.j,\n",
       "       -29.813719  +0.j, -29.258347  +0.j, -28.344227  +0.j,\n",
       "        27.088388  +0.j, -27.088388  +0.j,  25.514225  +0.j,\n",
       "       -25.514225  +0.j,  23.651062  +0.j, -23.651062  +0.j,\n",
       "        21.533606  +0.j, -21.533606  +0.j,  19.201302  +0.j,\n",
       "       -19.201302  +0.j,  16.697592  +0.j, -16.697592  +0.j,\n",
       "        14.06912   +0.j, -14.06912   +0.j,  11.364848  +0.j,\n",
       "       -11.364848  +0.j,   9.813719  +0.j,   9.258346  +0.j,\n",
       "         8.344226  +0.j,   8.635152  +0.j,   7.088388  +0.j,\n",
       "         5.9308796 +0.j,   5.514226  +0.j,   3.651063  +0.j,\n",
       "         3.3024077 +0.j,   1.5336064 +0.j,   0.79869926+0.j,\n",
       "        -0.79869926+0.j,  -1.5336064 +0.j,  -3.3024077 +0.j,\n",
       "        -3.651063  +0.j,  -9.813719  +0.j,  -9.258346  +0.j,\n",
       "        -8.344226  +0.j,  -8.635152  +0.j,  -5.514226  +0.j,\n",
       "        -5.9308796 +0.j,  -7.088388  +0.j], dtype=complex64)"
      ]
     },
     "execution_count": 91,
     "metadata": {},
     "output_type": "execute_result"
    }
   ],
   "source": [
    "(l,v)=numpy.linalg.eig(A)\n",
    "l"
   ]
  }
 ],
 "metadata": {
  "kernelspec": {
   "display_name": "dev_env",
   "language": "python",
   "name": "python3"
  },
  "language_info": {
   "codemirror_mode": {
    "name": "ipython",
    "version": 3
   },
   "file_extension": ".py",
   "mimetype": "text/x-python",
   "name": "python",
   "nbconvert_exporter": "python",
   "pygments_lexer": "ipython3",
   "version": "3.9.7"
  },
  "orig_nbformat": 4,
  "vscode": {
   "interpreter": {
    "hash": "1224aa78933d76f3b87bf99e45c31cce45160fda9d38f1d681cad51c427d002b"
   }
  }
 },
 "nbformat": 4,
 "nbformat_minor": 2
}
