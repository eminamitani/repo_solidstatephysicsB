{
 "cells": [
  {
   "attachments": {},
   "cell_type": "markdown",
   "metadata": {},
   "source": [
    "水素分子に対応するハミルトニアンの対角化"
   ]
  },
  {
   "cell_type": "code",
   "execution_count": 26,
   "metadata": {},
   "outputs": [
    {
     "data": {
      "text/plain": [
       "0.9424777960769379"
      ]
     },
     "execution_count": 26,
     "metadata": {},
     "output_type": "execute_result"
    }
   ],
   "source": [
    "import numpy as np\n",
    "\n",
    "tp=-0.3\n",
    "ts=-0.4\n",
    "Es=-1.5\n",
    "Ep=-1.2\n",
    "Eh=-1.0\n",
    "alpha=np.deg2rad(54)\n",
    "\n",
    "alpha"
   ]
  },
  {
   "cell_type": "code",
   "execution_count": 27,
   "metadata": {},
   "outputs": [],
   "source": [
    "H=np.zeros((6,6))\n",
    "H[0,0]=Es\n",
    "H[1,1]=Ep \n",
    "H[2,2]=Ep \n",
    "H[3,3]=Ep\n",
    "H[4,4]=Eh \n",
    "H[5,5]=Eh \n",
    "\n",
    "H[0,4]=ts\n",
    "H[0,5]=ts\n",
    "H[4,0]=ts\n",
    "H[5,0]=ts \n",
    "\n",
    "H[1,4]=tp*np.cos(alpha)\n",
    "H[1,5]=tp*np.cos(alpha)\n",
    "H[2,4]=tp*np.sin(alpha)\n",
    "H[2,5]=-tp*np.sin(alpha)\n",
    "\n",
    "H[4,1]=tp*np.cos(alpha)\n",
    "H[5,1]=tp*np.cos(alpha)\n",
    "H[4,2]=tp*np.sin(alpha)\n",
    "H[5,2]=-tp*np.sin(alpha)\n"
   ]
  },
  {
   "cell_type": "code",
   "execution_count": 28,
   "metadata": {},
   "outputs": [
    {
     "data": {
      "text/plain": [
       "array([[-1.5       ,  0.        ,  0.        ,  0.        , -0.4       ,\n",
       "        -0.4       ],\n",
       "       [ 0.        , -1.2       ,  0.        ,  0.        , -0.17633558,\n",
       "        -0.17633558],\n",
       "       [ 0.        ,  0.        , -1.2       ,  0.        , -0.2427051 ,\n",
       "         0.2427051 ],\n",
       "       [ 0.        ,  0.        ,  0.        , -1.2       ,  0.        ,\n",
       "         0.        ],\n",
       "       [-0.4       , -0.17633558, -0.2427051 ,  0.        , -1.        ,\n",
       "         0.        ],\n",
       "       [-0.4       , -0.17633558,  0.2427051 ,  0.        ,  0.        ,\n",
       "        -1.        ]])"
      ]
     },
     "execution_count": 28,
     "metadata": {},
     "output_type": "execute_result"
    }
   ],
   "source": [
    "H"
   ]
  },
  {
   "cell_type": "code",
   "execution_count": 29,
   "metadata": {},
   "outputs": [],
   "source": [
    "eig,vec=np.linalg.eigh(H)"
   ]
  },
  {
   "cell_type": "code",
   "execution_count": 30,
   "metadata": {},
   "outputs": [
    {
     "data": {
      "text/plain": [
       "array([-1.89645224, -1.45750738, -1.24196028, -1.2       , -0.74249262,\n",
       "       -0.56158748])"
      ]
     },
     "execution_count": 30,
     "metadata": {},
     "output_type": "execute_result"
    }
   ],
   "source": [
    "eig"
   ]
  },
  {
   "cell_type": "code",
   "execution_count": 32,
   "metadata": {},
   "outputs": [
    {
     "data": {
      "text/plain": [
       "array([8.02147856e-01, 2.01295429e-01, 5.55111512e-17, 1.23259516e-32,\n",
       "       3.97516645e-01, 3.97516645e-01])"
      ]
     },
     "execution_count": 32,
     "metadata": {},
     "output_type": "execute_result"
    }
   ],
   "source": [
    "vec.T[0,:]"
   ]
  },
  {
   "cell_type": "code",
   "execution_count": 33,
   "metadata": {},
   "outputs": [
    {
     "data": {
      "text/plain": [
       "array([ 2.09013992e-16, -6.65111982e-16, -7.99910777e-01, -6.66133815e-16,\n",
       "       -4.24348176e-01,  4.24348176e-01])"
      ]
     },
     "execution_count": 33,
     "metadata": {},
     "output_type": "execute_result"
    }
   ],
   "source": [
    "vec.T[1,:]"
   ]
  },
  {
   "cell_type": "code",
   "execution_count": 34,
   "metadata": {},
   "outputs": [
    {
     "data": {
      "text/plain": [
       "array([-3.41841884e-01,  9.26730359e-01, -3.33066907e-16, -3.10613981e-30,\n",
       "        1.10260980e-01,  1.10260980e-01])"
      ]
     },
     "execution_count": 34,
     "metadata": {},
     "output_type": "execute_result"
    }
   ],
   "source": [
    "vec.T[2,:]"
   ]
  }
 ],
 "metadata": {
  "kernelspec": {
   "display_name": "dev_env",
   "language": "python",
   "name": "python3"
  },
  "language_info": {
   "codemirror_mode": {
    "name": "ipython",
    "version": 3
   },
   "file_extension": ".py",
   "mimetype": "text/x-python",
   "name": "python",
   "nbconvert_exporter": "python",
   "pygments_lexer": "ipython3",
   "version": "3.9.7"
  },
  "orig_nbformat": 4,
  "vscode": {
   "interpreter": {
    "hash": "1224aa78933d76f3b87bf99e45c31cce45160fda9d38f1d681cad51c427d002b"
   }
  }
 },
 "nbformat": 4,
 "nbformat_minor": 2
}
