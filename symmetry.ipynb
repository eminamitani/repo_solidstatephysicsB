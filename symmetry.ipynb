{
 "cells": [
  {
   "attachments": {},
   "cell_type": "markdown",
   "metadata": {},
   "source": [
    "# 構造を作ってその空間群を判定するプログラム\n",
    "\n",
    "講義資料で出てきた謎の人工構造を作るプログラムの例です。\n",
    "\n",
    "ASEというのは、pythonで物質構造や、物性シミュレーションの結果を扱う事ができる便利パッケージです。"
   ]
  },
  {
   "attachments": {},
   "cell_type": "markdown",
   "metadata": {},
   "source": [
    "ASEには典型的な構造を作るモジュールが含まれています。ここでは、単純立方格子（sc）のLiという仮想の物質を作ってみます。\n",
    "Liを使っているのは、単に可視化したときの色をわかりやすくするためです"
   ]
  },
  {
   "cell_type": "code",
   "execution_count": 8,
   "metadata": {},
   "outputs": [],
   "source": [
    "from ase.build import bulk\n",
    "atoms=bulk('Li','sc','4.2')"
   ]
  },
  {
   "attachments": {},
   "cell_type": "markdown",
   "metadata": {},
   "source": [
    "Liの原子の周りにくっつける原子を用意します。これも単に色だけでHeを選び、Liの周りにくっつけていきます。"
   ]
  },
  {
   "cell_type": "code",
   "execution_count": 9,
   "metadata": {},
   "outputs": [],
   "source": [
    "from ase.build.attach import attach\n",
    "from ase import Atoms\n",
    "shift=1.2\n",
    "off=1.0\n",
    "attach_atom=Atoms('He8',cell=atoms.cell, \n",
    "                  positions=[[shift,0,off],[-shift,0,off],[0,-shift,off],[0,shift,off],\n",
    "                             [shift,0,-off],[-shift,0,-off],[0,-shift,-off],[0,shift,-off]],pbc=True)\n"
   ]
  },
  {
   "attachments": {},
   "cell_type": "markdown",
   "metadata": {},
   "source": [
    "VASPと呼ばれるシミュレーションコードが使う構造データのファイル形式で、もともとの立方格子の構造を書き出します。\n",
    "このVASP形式のファイルは、VESTAというフリーソフトで美麗に可視化できます。"
   ]
  },
  {
   "cell_type": "code",
   "execution_count": 10,
   "metadata": {},
   "outputs": [],
   "source": [
    "from ase.io import write\n",
    "write('simpleCubic.vasp',atoms,format='vasp',vasp5=True)"
   ]
  },
  {
   "cell_type": "code",
   "execution_count": 11,
   "metadata": {},
   "outputs": [],
   "source": [
    "original=atoms.copy()"
   ]
  },
  {
   "attachments": {},
   "cell_type": "markdown",
   "metadata": {},
   "source": [
    "He８つをくっつけます"
   ]
  },
  {
   "cell_type": "code",
   "execution_count": 12,
   "metadata": {},
   "outputs": [],
   "source": [
    "atoms.extend(attach_atom)"
   ]
  },
  {
   "cell_type": "code",
   "execution_count": 13,
   "metadata": {},
   "outputs": [],
   "source": [
    "write('CubicPlus.vasp',atoms,format='vasp',vasp5=True)"
   ]
  },
  {
   "attachments": {},
   "cell_type": "markdown",
   "metadata": {},
   "source": [
    "こうやって作った不気味構造ともともとの構造の空間群が違うことを確認します。\n",
    "空間群の判定にはspglibというパッケージを使います。"
   ]
  },
  {
   "cell_type": "code",
   "execution_count": 14,
   "metadata": {},
   "outputs": [],
   "source": [
    "import spglib"
   ]
  },
  {
   "cell_type": "code",
   "execution_count": 15,
   "metadata": {},
   "outputs": [],
   "source": [
    "lattice = atoms.get_cell()\n",
    "positions = atoms.get_scaled_positions()\n",
    "numbers = atoms.get_atomic_numbers()\n",
    "\n",
    "cell = (lattice, positions, numbers)"
   ]
  },
  {
   "cell_type": "code",
   "execution_count": 16,
   "metadata": {},
   "outputs": [
    {
     "data": {
      "text/plain": [
       "'P4/mmm (123)'"
      ]
     },
     "execution_count": 16,
     "metadata": {},
     "output_type": "execute_result"
    }
   ],
   "source": [
    "spglib.get_spacegroup(cell)"
   ]
  },
  {
   "cell_type": "code",
   "execution_count": 17,
   "metadata": {},
   "outputs": [
    {
     "data": {
      "text/plain": [
       "'Pm-3m (221)'"
      ]
     },
     "execution_count": 17,
     "metadata": {},
     "output_type": "execute_result"
    }
   ],
   "source": [
    "lattice = original.get_cell()\n",
    "positions = original.get_scaled_positions()\n",
    "numbers = original.get_atomic_numbers()\n",
    "\n",
    "cell = (lattice, positions, numbers)\n",
    "spglib.get_spacegroup(cell)"
   ]
  }
 ],
 "metadata": {
  "kernelspec": {
   "display_name": "dev_env",
   "language": "python",
   "name": "python3"
  },
  "language_info": {
   "codemirror_mode": {
    "name": "ipython",
    "version": 3
   },
   "file_extension": ".py",
   "mimetype": "text/x-python",
   "name": "python",
   "nbconvert_exporter": "python",
   "pygments_lexer": "ipython3",
   "version": "3.9.7"
  },
  "orig_nbformat": 4,
  "vscode": {
   "interpreter": {
    "hash": "1224aa78933d76f3b87bf99e45c31cce45160fda9d38f1d681cad51c427d002b"
   }
  }
 },
 "nbformat": 4,
 "nbformat_minor": 2
}
