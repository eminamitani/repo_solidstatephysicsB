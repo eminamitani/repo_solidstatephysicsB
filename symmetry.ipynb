{
 "cells": [
  {
   "cell_type": "code",
   "execution_count": 21,
   "metadata": {},
   "outputs": [],
   "source": [
    "from ase.build import bulk\n",
    "atoms=bulk('Li','sc','4.2')"
   ]
  },
  {
   "attachments": {},
   "cell_type": "markdown",
   "metadata": {},
   "source": [
    "Liの原子の周りにくっつける原子を用意します"
   ]
  },
  {
   "cell_type": "code",
   "execution_count": 23,
   "metadata": {},
   "outputs": [],
   "source": [
    "from ase.build.attach import attach\n",
    "from ase import Atoms\n",
    "shift=1.2\n",
    "off=1.0\n",
    "attach_atom=Atoms('He8',cell=atoms.cell, \n",
    "                  positions=[[shift,0,off],[-shift,0,off],[0,-shift,off],[0,shift,off],\n",
    "                             [shift,0,-off],[-shift,0,-off],[0,-shift,-off],[0,shift,-off]],pbc=True)\n"
   ]
  },
  {
   "cell_type": "code",
   "execution_count": 24,
   "metadata": {},
   "outputs": [],
   "source": [
    "from ase.io import write\n",
    "write('simpleCubic.vasp',atoms,format='vasp',vasp5=True)"
   ]
  },
  {
   "cell_type": "code",
   "execution_count": 25,
   "metadata": {},
   "outputs": [],
   "source": [
    "original=atoms.copy()"
   ]
  },
  {
   "attachments": {},
   "cell_type": "markdown",
   "metadata": {},
   "source": [
    "He８つをくっつけます"
   ]
  },
  {
   "cell_type": "code",
   "execution_count": 26,
   "metadata": {},
   "outputs": [],
   "source": [
    "atoms.extend(attach_atom)"
   ]
  },
  {
   "cell_type": "code",
   "execution_count": 27,
   "metadata": {},
   "outputs": [],
   "source": [
    "write('CubicPlus.vasp',atoms,format='vasp',vasp5=True)"
   ]
  },
  {
   "cell_type": "code",
   "execution_count": 28,
   "metadata": {},
   "outputs": [],
   "source": [
    "import spglib"
   ]
  },
  {
   "cell_type": "code",
   "execution_count": 29,
   "metadata": {},
   "outputs": [],
   "source": [
    "lattice = atoms.get_cell()\n",
    "positions = atoms.get_scaled_positions()\n",
    "numbers = atoms.get_atomic_numbers()\n",
    "\n",
    "cell = (lattice, positions, numbers)"
   ]
  },
  {
   "cell_type": "code",
   "execution_count": 30,
   "metadata": {},
   "outputs": [
    {
     "data": {
      "text/plain": [
       "'P4/mmm (123)'"
      ]
     },
     "execution_count": 30,
     "metadata": {},
     "output_type": "execute_result"
    }
   ],
   "source": [
    "spglib.get_spacegroup(cell)"
   ]
  },
  {
   "cell_type": "code",
   "execution_count": 31,
   "metadata": {},
   "outputs": [
    {
     "data": {
      "text/plain": [
       "'Pm-3m (221)'"
      ]
     },
     "execution_count": 31,
     "metadata": {},
     "output_type": "execute_result"
    }
   ],
   "source": [
    "lattice = original.get_cell()\n",
    "positions = original.get_scaled_positions()\n",
    "numbers = original.get_atomic_numbers()\n",
    "\n",
    "cell = (lattice, positions, numbers)\n",
    "spglib.get_spacegroup(cell)"
   ]
  }
 ],
 "metadata": {
  "kernelspec": {
   "display_name": "dev_env",
   "language": "python",
   "name": "python3"
  },
  "language_info": {
   "codemirror_mode": {
    "name": "ipython",
    "version": 3
   },
   "file_extension": ".py",
   "mimetype": "text/x-python",
   "name": "python",
   "nbconvert_exporter": "python",
   "pygments_lexer": "ipython3",
   "version": "3.9.7"
  },
  "orig_nbformat": 4,
  "vscode": {
   "interpreter": {
    "hash": "1224aa78933d76f3b87bf99e45c31cce45160fda9d38f1d681cad51c427d002b"
   }
  }
 },
 "nbformat": 4,
 "nbformat_minor": 2
}
